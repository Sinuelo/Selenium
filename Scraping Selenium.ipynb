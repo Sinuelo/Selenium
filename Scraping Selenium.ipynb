{
 "cells": [
  {
   "cell_type": "code",
   "execution_count": 45,
   "id": "1f60076f",
   "metadata": {},
   "outputs": [],
   "source": [
    "from selenium import webdriver\n",
    "from selenium.webdriver.common.keys import Keys\n",
    "from selenium.webdriver.chrome.service import Service\n",
    "from webdriver_manager.chrome import ChromeDriverManager\n",
    "from selenium.webdriver.common.by import By\n",
    "\n",
    "servico = Service(ChromeDriverManager().install())\n",
    "driver = webdriver.Chrome(service=servico)\n"
   ]
  },
  {
   "cell_type": "code",
   "execution_count": 46,
   "id": "0368b4fe",
   "metadata": {},
   "outputs": [],
   "source": [
    "import time\n",
    "driver.get('https://www.youtube.com/@Adrenaline/videos')\n",
    "\n"
   ]
  },
  {
   "cell_type": "code",
   "execution_count": 47,
   "id": "210cd3c4",
   "metadata": {},
   "outputs": [],
   "source": [
    "driver.find_element(By.XPATH,'//*[@id=\"chips\"]/yt-chip-cloud-chip-renderer[2]').click()\n",
    "time.sleep(3)\n"
   ]
  },
  {
   "cell_type": "code",
   "execution_count": 48,
   "id": "19365843",
   "metadata": {
    "scrolled": true
   },
   "outputs": [
    {
     "name": "stdout",
     "output_type": "stream",
     "text": [
      "[<selenium.webdriver.remote.webelement.WebElement (session=\"2fc83c5594a8796a12949de46b78ebf2\", element=\"1D6C9096889B184FD51E3DC035D5CB6F_element_133\")>, <selenium.webdriver.remote.webelement.WebElement (session=\"2fc83c5594a8796a12949de46b78ebf2\", element=\"1D6C9096889B184FD51E3DC035D5CB6F_element_134\")>, <selenium.webdriver.remote.webelement.WebElement (session=\"2fc83c5594a8796a12949de46b78ebf2\", element=\"1D6C9096889B184FD51E3DC035D5CB6F_element_135\")>, <selenium.webdriver.remote.webelement.WebElement (session=\"2fc83c5594a8796a12949de46b78ebf2\", element=\"1D6C9096889B184FD51E3DC035D5CB6F_element_136\")>, <selenium.webdriver.remote.webelement.WebElement (session=\"2fc83c5594a8796a12949de46b78ebf2\", element=\"1D6C9096889B184FD51E3DC035D5CB6F_element_137\")>, <selenium.webdriver.remote.webelement.WebElement (session=\"2fc83c5594a8796a12949de46b78ebf2\", element=\"1D6C9096889B184FD51E3DC035D5CB6F_element_138\")>, <selenium.webdriver.remote.webelement.WebElement (session=\"2fc83c5594a8796a12949de46b78ebf2\", element=\"1D6C9096889B184FD51E3DC035D5CB6F_element_139\")>, <selenium.webdriver.remote.webelement.WebElement (session=\"2fc83c5594a8796a12949de46b78ebf2\", element=\"1D6C9096889B184FD51E3DC035D5CB6F_element_140\")>, <selenium.webdriver.remote.webelement.WebElement (session=\"2fc83c5594a8796a12949de46b78ebf2\", element=\"1D6C9096889B184FD51E3DC035D5CB6F_element_141\")>, <selenium.webdriver.remote.webelement.WebElement (session=\"2fc83c5594a8796a12949de46b78ebf2\", element=\"1D6C9096889B184FD51E3DC035D5CB6F_element_142\")>, <selenium.webdriver.remote.webelement.WebElement (session=\"2fc83c5594a8796a12949de46b78ebf2\", element=\"1D6C9096889B184FD51E3DC035D5CB6F_element_143\")>, <selenium.webdriver.remote.webelement.WebElement (session=\"2fc83c5594a8796a12949de46b78ebf2\", element=\"1D6C9096889B184FD51E3DC035D5CB6F_element_144\")>, <selenium.webdriver.remote.webelement.WebElement (session=\"2fc83c5594a8796a12949de46b78ebf2\", element=\"1D6C9096889B184FD51E3DC035D5CB6F_element_145\")>, <selenium.webdriver.remote.webelement.WebElement (session=\"2fc83c5594a8796a12949de46b78ebf2\", element=\"1D6C9096889B184FD51E3DC035D5CB6F_element_146\")>, <selenium.webdriver.remote.webelement.WebElement (session=\"2fc83c5594a8796a12949de46b78ebf2\", element=\"1D6C9096889B184FD51E3DC035D5CB6F_element_147\")>, <selenium.webdriver.remote.webelement.WebElement (session=\"2fc83c5594a8796a12949de46b78ebf2\", element=\"1D6C9096889B184FD51E3DC035D5CB6F_element_148\")>, <selenium.webdriver.remote.webelement.WebElement (session=\"2fc83c5594a8796a12949de46b78ebf2\", element=\"1D6C9096889B184FD51E3DC035D5CB6F_element_149\")>, <selenium.webdriver.remote.webelement.WebElement (session=\"2fc83c5594a8796a12949de46b78ebf2\", element=\"1D6C9096889B184FD51E3DC035D5CB6F_element_150\")>, <selenium.webdriver.remote.webelement.WebElement (session=\"2fc83c5594a8796a12949de46b78ebf2\", element=\"1D6C9096889B184FD51E3DC035D5CB6F_element_151\")>, <selenium.webdriver.remote.webelement.WebElement (session=\"2fc83c5594a8796a12949de46b78ebf2\", element=\"1D6C9096889B184FD51E3DC035D5CB6F_element_152\")>, <selenium.webdriver.remote.webelement.WebElement (session=\"2fc83c5594a8796a12949de46b78ebf2\", element=\"1D6C9096889B184FD51E3DC035D5CB6F_element_153\")>, <selenium.webdriver.remote.webelement.WebElement (session=\"2fc83c5594a8796a12949de46b78ebf2\", element=\"1D6C9096889B184FD51E3DC035D5CB6F_element_154\")>, <selenium.webdriver.remote.webelement.WebElement (session=\"2fc83c5594a8796a12949de46b78ebf2\", element=\"1D6C9096889B184FD51E3DC035D5CB6F_element_155\")>, <selenium.webdriver.remote.webelement.WebElement (session=\"2fc83c5594a8796a12949de46b78ebf2\", element=\"1D6C9096889B184FD51E3DC035D5CB6F_element_156\")>, <selenium.webdriver.remote.webelement.WebElement (session=\"2fc83c5594a8796a12949de46b78ebf2\", element=\"1D6C9096889B184FD51E3DC035D5CB6F_element_157\")>, <selenium.webdriver.remote.webelement.WebElement (session=\"2fc83c5594a8796a12949de46b78ebf2\", element=\"1D6C9096889B184FD51E3DC035D5CB6F_element_158\")>, <selenium.webdriver.remote.webelement.WebElement (session=\"2fc83c5594a8796a12949de46b78ebf2\", element=\"1D6C9096889B184FD51E3DC035D5CB6F_element_159\")>, <selenium.webdriver.remote.webelement.WebElement (session=\"2fc83c5594a8796a12949de46b78ebf2\", element=\"1D6C9096889B184FD51E3DC035D5CB6F_element_160\")>]\n"
     ]
    }
   ],
   "source": [
    "videos = driver.find_elements(By.ID, 'video-title-link')\n",
    "print(videos)"
   ]
  },
  {
   "cell_type": "code",
   "execution_count": 49,
   "id": "e9f6cc22",
   "metadata": {},
   "outputs": [
    {
     "name": "stdout",
     "output_type": "stream",
     "text": [
      "RECOMENDAÇÕES HORRÍVEIS que você NÃO DEVE SEGUIR no seu PC https://www.youtube.com/watch?v=NgKNLoI4I8E\n",
      "SSD dá FPS? Colocamos dois PCs idênticos para tirar a prova contra um HD! https://www.youtube.com/watch?v=LFbRPIYQphU\n",
      "GTX 1050 Ti: Análise e gameplay - será essa a melhor placa gamer de entrada? https://www.youtube.com/watch?v=vCKv5NNv_g0\n",
      "Memórias RAM diferentes trabalhando juntas dá ruim? https://www.youtube.com/watch?v=DePFBvG8V9s\n",
      "PC Gamer Ideal: o computador que indicamos montar https://www.youtube.com/watch?v=5-r_V6LX1kU\n",
      "CPU fraca com placa de vídeo forte? Vamos desequilibrar os chips e ver o que acontece! https://www.youtube.com/watch?v=64xqvEhwZTU\n",
      "Como são montados os PCs que você compra? Veja como é feito na Pichau! https://www.youtube.com/watch?v=_unQrDZXtO0\n",
      "Batalha de CPU \"custo x benefício\" pra jogar! AMD Ryzen 5 3600 ou Intel Core i5-9400F? https://www.youtube.com/watch?v=gfNZzO5mYmA\n",
      "GUIA de PLACA DE VÍDEO 2020: vamos lhe ajudar a escolher uma! https://www.youtube.com/watch?v=-c7McYiTTsI\n",
      "PC Ostentação dos Sonhos 2016 - Preço total de R$50.000 https://www.youtube.com/watch?v=JorGkbh1UCg\n",
      "Xbox Series S - vale a pena o mais barato da nova geração? https://www.youtube.com/watch?v=N03lTxBBQhE\n",
      "AMD Ryzen 5 5600G: jogamos COM E SEM placa de vídeo! https://www.youtube.com/watch?v=2EIUUq47mm4\n",
      "Base para notebook faz diferença? E como melhorar o desempenho sem gastar nada! https://www.youtube.com/watch?v=vMDdiMWZu3Y\n",
      "PC Baratinho para jogar versus GTA V, MK X, Battlefield 4 e FarCry 4 https://www.youtube.com/watch?v=dfcHQQocw-o\n",
      "PC DOS SONHOS 2020 - veja a MONTAGEM DESSA SUPER MÁQUINA https://www.youtube.com/watch?v=-hxw3Zld6uE\n",
      "Análise Samsung Galaxy J7 Duos - smartphone tem boa câmera e excelente bateria https://www.youtube.com/watch?v=cNuvYpSCx2E\n",
      "Como ver a performance de seus componentes na tela em tempo real no PC https://www.youtube.com/watch?v=psAAhZYD5GA\n",
      "Como atualizar seu Windows 10 para o Windows 11 https://www.youtube.com/watch?v=hNB0mS2KBCI\n",
      "PC Gamer dos Sonhos 2015 - Preço total de quase R$30.000 https://www.youtube.com/watch?v=vdNSqkoY01A\n",
      "Gigabyte RTX 3090 Gaming OC em jogos! Essa placa realmente aguenta 8K? https://www.youtube.com/watch?v=tcTZcVWRyYk\n",
      "PC GAMER com performance do Playstation 5: QUANTO CUSTA? [+gameplay] https://www.youtube.com/watch?v=wLi5lr7sGhE\n",
      "PC do nível do XBOX SERIES S: a MICROSOFT MANDOU BEM! https://www.youtube.com/watch?v=We9zBur0nLs\n",
      "Periféricos dos Sonhos e Custo x Benefício: os melhores mouses, teclados, headsets e mousepads! https://www.youtube.com/watch?v=F1_QYTwJW-o\n",
      "Xbox Series S: melhor que um PC Gamer Baratinho agora? https://www.youtube.com/watch?v=6iE9dJk6CGI\n",
      "Até onde vai a Nvidia GeForce GT 1030 em games? https://www.youtube.com/watch?v=X8LB2gIMxF8\n",
      "SSD no Playstation 5: mostramos como instalar e testamos a performance! https://www.youtube.com/watch?v=2HKz8OZ5m_s\n",
      "PREÇOS DE PC GAMER NA PANDEMIA: R$ 1500, 2500, 3500 e 5 mil https://www.youtube.com/watch?v=o7QwoSCme30\n",
      "Jogar em ultrawide vale a pena? E vou precisar de uma nova placa de vídeo? https://www.youtube.com/watch?v=-IQL4a8V0PA\n"
     ]
    }
   ],
   "source": [
    "for video in videos:\n",
    "    link = video.get_attribute('href')\n",
    "    titulo = video.get_attribute('title')\n",
    "    print(titulo, link)"
   ]
  }
 ],
 "metadata": {
  "kernelspec": {
   "display_name": "Python 3 (ipykernel)",
   "language": "python",
   "name": "python3"
  },
  "language_info": {
   "codemirror_mode": {
    "name": "ipython",
    "version": 3
   },
   "file_extension": ".py",
   "mimetype": "text/x-python",
   "name": "python",
   "nbconvert_exporter": "python",
   "pygments_lexer": "ipython3",
   "version": "3.9.13"
  }
 },
 "nbformat": 4,
 "nbformat_minor": 5
}
