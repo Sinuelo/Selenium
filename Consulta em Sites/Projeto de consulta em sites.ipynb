{
 "cells": [
  {
   "cell_type": "code",
   "execution_count": 46,
   "id": "f08aad7f",
   "metadata": {},
   "outputs": [],
   "source": [
    "from selenium import webdriver\n",
    "from selenium.webdriver.common.keys import Keys\n",
    "from selenium.webdriver.chrome.service import Service\n",
    "from webdriver_manager.chrome import ChromeDriverManager\n",
    "from selenium.webdriver.common.by import By\n",
    "\n",
    "servico = Service(ChromeDriverManager().install())\n",
    "driver = webdriver.Chrome(service=servico)"
   ]
  },
  {
   "cell_type": "code",
   "execution_count": 47,
   "id": "649e5217",
   "metadata": {},
   "outputs": [],
   "source": [
    "# Entrar no site ( está nos arquivos)\n",
    "import os\n",
    "\n",
    "caminho = os.getcwd()\n",
    "arquivo = caminho + r\"\\index1.html\"\n",
    "\n",
    "driver.get(arquivo)"
   ]
  },
  {
   "cell_type": "code",
   "execution_count": 48,
   "id": "2664b593",
   "metadata": {},
   "outputs": [],
   "source": [
    "# Escolher estado usando ActionChains\n",
    "from selenium.webdriver import ActionChains\n",
    "\n",
    "botao = driver.find_element(By.XPATH, '/html/body/div/div/button')\n",
    "\n",
    "# Abrir lista de cidades\n",
    "ActionChains(driver).move_to_element(botao).perform()\n",
    "\n",
    "# Selecionar Rio de Janeiro\n",
    "driver.find_element(By.XPATH, \"/html/body/div/div/div/a[2]\").click()"
   ]
  },
  {
   "cell_type": "code",
   "execution_count": 49,
   "id": "c4db0482",
   "metadata": {},
   "outputs": [],
   "source": [
    "# Preencher o formulario e clicar em pesquisar\n",
    "from selenium.webdriver.common.keys import Keys\n",
    "\n",
    "# Mudar para a outra aba\n",
    "aba_original = driver.window_handles[0]\n",
    "nova_aba = driver.window_handles[1]\n",
    "driver.switch_to.window(nova_aba)\n",
    "\n",
    "# Preencher\n",
    "driver.find_element(By.ID, \"nome\").send_keys(\"Lucas Alves\", Keys.TAB, \"Luizinho\", Keys.TAB, \"123456789\")\n",
    "driver.find_element(By.CLASS_NAME, \"registerbtn\").click()"
   ]
  },
  {
   "cell_type": "code",
   "execution_count": 50,
   "id": "a796a90a",
   "metadata": {},
   "outputs": [],
   "source": [
    "# confirmar a pesquisa\n",
    "alerta = driver.switch_to.alert\n",
    "alerta.accept()"
   ]
  },
  {
   "cell_type": "code",
   "execution_count": 51,
   "id": "5b56a46a",
   "metadata": {},
   "outputs": [
    {
     "name": "stdout",
     "output_type": "stream",
     "text": [
      "Processo foi encontrado\n"
     ]
    }
   ],
   "source": [
    "# esperar o resultado e agir de acordo com o \n",
    "import time\n",
    "\n",
    "while True:\n",
    "    try:\n",
    "        alerta = driver.switch_to.alert\n",
    "        break\n",
    "    except:\n",
    "        time.sleep(1)\n",
    "texto_alerta = alerta.text\n",
    "\n",
    "if \"Processo encontrado\" in texto_alerta:\n",
    "    alerta.accept()\n",
    "    print(\"Processo foi encontrado\")\n",
    "else:\n",
    "    print(\"Processo não encontrado\")\n",
    "    \n"
   ]
  }
 ],
 "metadata": {
  "kernelspec": {
   "display_name": "Python 3 (ipykernel)",
   "language": "python",
   "name": "python3"
  },
  "language_info": {
   "codemirror_mode": {
    "name": "ipython",
    "version": 3
   },
   "file_extension": ".py",
   "mimetype": "text/x-python",
   "name": "python",
   "nbconvert_exporter": "python",
   "pygments_lexer": "ipython3",
   "version": "3.9.13"
  }
 },
 "nbformat": 4,
 "nbformat_minor": 5
}
