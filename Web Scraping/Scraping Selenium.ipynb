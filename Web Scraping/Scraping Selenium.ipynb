{
 "cells": [
  {
   "cell_type": "code",
   "execution_count": 56,
   "id": "0802bdc8",
   "metadata": {},
   "outputs": [],
   "source": [
    "from selenium import webdriver\n",
    "from selenium.webdriver.common.keys import Keys\n",
    "from selenium.webdriver.chrome.service import Service\n",
    "from webdriver_manager.chrome import ChromeDriverManager\n",
    "from selenium.webdriver.common.by import By\n",
    "import time\n",
    "\n",
    "servico = Service(ChromeDriverManager().install())\n",
    "driver = webdriver.Chrome(service=servico)\n"
   ]
  },
  {
   "cell_type": "code",
   "execution_count": 57,
   "id": "17c83d35",
   "metadata": {},
   "outputs": [],
   "source": [
    "driver.get('https://www.youtube.com/@Adrenaline/videos')"
   ]
  },
  {
   "cell_type": "code",
   "execution_count": 58,
   "id": "8d71aff2",
   "metadata": {},
   "outputs": [],
   "source": [
    "driver.find_element(By.XPATH,'//*[@id=\"chips\"]/yt-chip-cloud-chip-renderer[2]').click()\n",
    "time.sleep(3)"
   ]
  },
  {
   "cell_type": "code",
   "execution_count": 59,
   "id": "576e5fc0",
   "metadata": {
    "scrolled": true
   },
   "outputs": [
    {
     "name": "stdout",
     "output_type": "stream",
     "text": [
      "[<selenium.webdriver.remote.webelement.WebElement (session=\"b8d91d5ca0691a371db5754fc38c8918\", element=\"9EC07ED2EF1339C8E21AE857395C3F28_element_108\")>, <selenium.webdriver.remote.webelement.WebElement (session=\"b8d91d5ca0691a371db5754fc38c8918\", element=\"9EC07ED2EF1339C8E21AE857395C3F28_element_109\")>, <selenium.webdriver.remote.webelement.WebElement (session=\"b8d91d5ca0691a371db5754fc38c8918\", element=\"9EC07ED2EF1339C8E21AE857395C3F28_element_110\")>, <selenium.webdriver.remote.webelement.WebElement (session=\"b8d91d5ca0691a371db5754fc38c8918\", element=\"9EC07ED2EF1339C8E21AE857395C3F28_element_111\")>, <selenium.webdriver.remote.webelement.WebElement (session=\"b8d91d5ca0691a371db5754fc38c8918\", element=\"9EC07ED2EF1339C8E21AE857395C3F28_element_112\")>, <selenium.webdriver.remote.webelement.WebElement (session=\"b8d91d5ca0691a371db5754fc38c8918\", element=\"9EC07ED2EF1339C8E21AE857395C3F28_element_113\")>, <selenium.webdriver.remote.webelement.WebElement (session=\"b8d91d5ca0691a371db5754fc38c8918\", element=\"9EC07ED2EF1339C8E21AE857395C3F28_element_114\")>, <selenium.webdriver.remote.webelement.WebElement (session=\"b8d91d5ca0691a371db5754fc38c8918\", element=\"9EC07ED2EF1339C8E21AE857395C3F28_element_115\")>, <selenium.webdriver.remote.webelement.WebElement (session=\"b8d91d5ca0691a371db5754fc38c8918\", element=\"9EC07ED2EF1339C8E21AE857395C3F28_element_116\")>, <selenium.webdriver.remote.webelement.WebElement (session=\"b8d91d5ca0691a371db5754fc38c8918\", element=\"9EC07ED2EF1339C8E21AE857395C3F28_element_117\")>, <selenium.webdriver.remote.webelement.WebElement (session=\"b8d91d5ca0691a371db5754fc38c8918\", element=\"9EC07ED2EF1339C8E21AE857395C3F28_element_118\")>, <selenium.webdriver.remote.webelement.WebElement (session=\"b8d91d5ca0691a371db5754fc38c8918\", element=\"9EC07ED2EF1339C8E21AE857395C3F28_element_119\")>, <selenium.webdriver.remote.webelement.WebElement (session=\"b8d91d5ca0691a371db5754fc38c8918\", element=\"9EC07ED2EF1339C8E21AE857395C3F28_element_120\")>, <selenium.webdriver.remote.webelement.WebElement (session=\"b8d91d5ca0691a371db5754fc38c8918\", element=\"9EC07ED2EF1339C8E21AE857395C3F28_element_121\")>, <selenium.webdriver.remote.webelement.WebElement (session=\"b8d91d5ca0691a371db5754fc38c8918\", element=\"9EC07ED2EF1339C8E21AE857395C3F28_element_122\")>, <selenium.webdriver.remote.webelement.WebElement (session=\"b8d91d5ca0691a371db5754fc38c8918\", element=\"9EC07ED2EF1339C8E21AE857395C3F28_element_123\")>, <selenium.webdriver.remote.webelement.WebElement (session=\"b8d91d5ca0691a371db5754fc38c8918\", element=\"9EC07ED2EF1339C8E21AE857395C3F28_element_124\")>, <selenium.webdriver.remote.webelement.WebElement (session=\"b8d91d5ca0691a371db5754fc38c8918\", element=\"9EC07ED2EF1339C8E21AE857395C3F28_element_125\")>, <selenium.webdriver.remote.webelement.WebElement (session=\"b8d91d5ca0691a371db5754fc38c8918\", element=\"9EC07ED2EF1339C8E21AE857395C3F28_element_126\")>, <selenium.webdriver.remote.webelement.WebElement (session=\"b8d91d5ca0691a371db5754fc38c8918\", element=\"9EC07ED2EF1339C8E21AE857395C3F28_element_127\")>, <selenium.webdriver.remote.webelement.WebElement (session=\"b8d91d5ca0691a371db5754fc38c8918\", element=\"9EC07ED2EF1339C8E21AE857395C3F28_element_128\")>, <selenium.webdriver.remote.webelement.WebElement (session=\"b8d91d5ca0691a371db5754fc38c8918\", element=\"9EC07ED2EF1339C8E21AE857395C3F28_element_129\")>, <selenium.webdriver.remote.webelement.WebElement (session=\"b8d91d5ca0691a371db5754fc38c8918\", element=\"9EC07ED2EF1339C8E21AE857395C3F28_element_130\")>, <selenium.webdriver.remote.webelement.WebElement (session=\"b8d91d5ca0691a371db5754fc38c8918\", element=\"9EC07ED2EF1339C8E21AE857395C3F28_element_131\")>, <selenium.webdriver.remote.webelement.WebElement (session=\"b8d91d5ca0691a371db5754fc38c8918\", element=\"9EC07ED2EF1339C8E21AE857395C3F28_element_132\")>, <selenium.webdriver.remote.webelement.WebElement (session=\"b8d91d5ca0691a371db5754fc38c8918\", element=\"9EC07ED2EF1339C8E21AE857395C3F28_element_133\")>, <selenium.webdriver.remote.webelement.WebElement (session=\"b8d91d5ca0691a371db5754fc38c8918\", element=\"9EC07ED2EF1339C8E21AE857395C3F28_element_134\")>, <selenium.webdriver.remote.webelement.WebElement (session=\"b8d91d5ca0691a371db5754fc38c8918\", element=\"9EC07ED2EF1339C8E21AE857395C3F28_element_135\")>]\n"
     ]
    }
   ],
   "source": [
    "# Pegar os vídeos que aparecem quando entra na aba em alta (sem dar scroll)\n",
    "videos = driver.find_elements(By.ID, 'video-title-link')\n",
    "print(videos)"
   ]
  },
  {
   "cell_type": "code",
   "execution_count": 60,
   "id": "444895bc",
   "metadata": {},
   "outputs": [
    {
     "name": "stdout",
     "output_type": "stream",
     "text": [
      "RECOMENDAÇÕES HORRÍVEIS que você NÃO DEVE SEGUIR no seu PC https://www.youtube.com/watch?v=NgKNLoI4I8E\n",
      "SSD dá FPS? Colocamos dois PCs idênticos para tirar a prova contra um HD! https://www.youtube.com/watch?v=LFbRPIYQphU\n",
      "GTX 1050 Ti: Análise e gameplay - será essa a melhor placa gamer de entrada? https://www.youtube.com/watch?v=vCKv5NNv_g0\n",
      "Memórias RAM diferentes trabalhando juntas dá ruim? https://www.youtube.com/watch?v=DePFBvG8V9s\n",
      "PC Gamer Ideal: o computador que indicamos montar https://www.youtube.com/watch?v=5-r_V6LX1kU\n",
      "CPU fraca com placa de vídeo forte? Vamos desequilibrar os chips e ver o que acontece! https://www.youtube.com/watch?v=64xqvEhwZTU\n",
      "Como são montados os PCs que você compra? Veja como é feito na Pichau! https://www.youtube.com/watch?v=_unQrDZXtO0\n",
      "Batalha de CPU \"custo x benefício\" pra jogar! AMD Ryzen 5 3600 ou Intel Core i5-9400F? https://www.youtube.com/watch?v=gfNZzO5mYmA\n",
      "GUIA de PLACA DE VÍDEO 2020: vamos lhe ajudar a escolher uma! https://www.youtube.com/watch?v=-c7McYiTTsI\n",
      "PC Ostentação dos Sonhos 2016 - Preço total de R$50.000 https://www.youtube.com/watch?v=JorGkbh1UCg\n"
     ]
    }
   ],
   "source": [
    "# Pegar os primeiros 10 vídeos mais populares\n",
    "for video in videos[:10]:\n",
    "    link = video.get_attribute('href')\n",
    "    titulo = video.get_attribute('title')\n",
    "    print(titulo, link)\n",
    "    \n",
    "# Fechar o navegador\n",
    "driver.quit()"
   ]
  }
 ],
 "metadata": {
  "kernelspec": {
   "display_name": "Python 3 (ipykernel)",
   "language": "python",
   "name": "python3"
  },
  "language_info": {
   "codemirror_mode": {
    "name": "ipython",
    "version": 3
   },
   "file_extension": ".py",
   "mimetype": "text/x-python",
   "name": "python",
   "nbconvert_exporter": "python",
   "pygments_lexer": "ipython3",
   "version": "3.9.13"
  }
 },
 "nbformat": 4,
 "nbformat_minor": 5
}
